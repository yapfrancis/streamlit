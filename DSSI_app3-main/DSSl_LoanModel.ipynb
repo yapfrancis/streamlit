{
 "cells": [
  {
   "cell_type": "code",
   "execution_count": 1,
   "metadata": {
    "colab": {
     "base_uri": "https://localhost:8080/"
    },
    "id": "iI1RKNugRqsX",
    "outputId": "6851df40-4e6c-4834-9b20-4626677ee494"
   },
   "outputs": [
    {
     "name": "stderr",
     "output_type": "stream",
     "text": [
      "/usr/local/lib/python3.7/dist-packages/ipykernel_launcher.py:2: UserWarning: Config option `use_jedi` not recognized by `IPCompleter`.\n",
      "  \n"
     ]
    }
   ],
   "source": [
    "## turn on the autocomplete if off by default\n",
    "%config Completer.use_jedi = False"
   ]
  },
  {
   "cell_type": "markdown",
   "metadata": {
    "id": "l5KhKjXY9DnX"
   },
   "source": [
    "## Below is a simple NN example in PyTorch to illustrate:\n",
    "1. Data Read (interactive)\n",
    "2. Normalize feature set\n",
    "\n"
   ]
  },
  {
   "cell_type": "code",
   "execution_count": 2,
   "metadata": {
    "id": "NkRi6Or6RhQk"
   },
   "outputs": [],
   "source": [
    "import os\n",
    "import numpy as np\n",
    "import pandas as pd\n",
    "from tqdm import tqdm\n",
    "import seaborn as sns\n",
    "from pylab import rcParams\n",
    "import matplotlib.pyplot as plt\n",
    "from sklearn.preprocessing import StandardScaler\n",
    "from sklearn.preprocessing import OneHotEncoder\n",
    "from sklearn.compose import make_column_transformer\n",
    "from sklearn.compose import ColumnTransformer\n",
    "from sklearn.model_selection import train_test_split\n",
    "from sklearn.linear_model import LogisticRegression\n",
    "\n",
    "from sklearn import metrics\n",
    "# Model Report Card\n",
    "from sklearn.metrics import accuracy_score\n",
    "from sklearn.metrics import confusion_matrix\n",
    "from sklearn.metrics import confusion_matrix, classification_report\n",
    "%matplotlib inline"
   ]
  },
  {
   "cell_type": "code",
   "execution_count": 3,
   "metadata": {
    "id": "1Pop5Em7qV-4"
   },
   "outputs": [],
   "source": [
    "from tqdm import tqdm, tqdm_notebook"
   ]
  },
  {
   "cell_type": "code",
   "execution_count": 4,
   "metadata": {
    "colab": {
     "base_uri": "https://localhost:8080/"
    },
    "id": "ZBsyjESAFQHB",
    "outputId": "7c8ab5af-9884-4251-f7e6-4dde6dadd68f"
   },
   "outputs": [
    {
     "name": "stdout",
     "output_type": "stream",
     "text": [
      "Mounted at /content/gdrive\n"
     ]
    }
   ],
   "source": [
    "# upload iris data interactively to google drive and access the data\n",
    "# from google.colab import files\n",
    "# uploaded = files.upload()\n",
    "from google.colab import drive\n",
    "drive.mount('/content/gdrive', force_remount=True)"
   ]
  },
  {
   "cell_type": "code",
   "execution_count": 22,
   "metadata": {
    "colab": {
     "base_uri": "https://localhost:8080/",
     "height": 264
    },
    "id": "-nzkCDh2FQJn",
    "outputId": "0b6fd614-2728-42f7-cdb2-0acdbfd9cdb5"
   },
   "outputs": [
    {
     "data": {
      "text/html": [
       "<div>\n",
       "<style scoped>\n",
       "    .dataframe tbody tr th:only-of-type {\n",
       "        vertical-align: middle;\n",
       "    }\n",
       "\n",
       "    .dataframe tbody tr th {\n",
       "        vertical-align: top;\n",
       "    }\n",
       "\n",
       "    .dataframe thead th {\n",
       "        text-align: right;\n",
       "    }\n",
       "</style>\n",
       "<table border=\"1\" class=\"dataframe\">\n",
       "  <thead>\n",
       "    <tr style=\"text-align: right;\">\n",
       "      <th></th>\n",
       "      <th>loan_amnt</th>\n",
       "      <th>int_rate</th>\n",
       "      <th>installment</th>\n",
       "      <th>emp_length</th>\n",
       "      <th>annual_inc</th>\n",
       "      <th>loan_status</th>\n",
       "      <th>zip_code</th>\n",
       "      <th>dti</th>\n",
       "      <th>delinq_2yrs</th>\n",
       "      <th>fico_range_high</th>\n",
       "      <th>inq_last_6mths</th>\n",
       "      <th>open_acc</th>\n",
       "      <th>pub_rec</th>\n",
       "      <th>revol_bal</th>\n",
       "      <th>revol_util</th>\n",
       "      <th>total_acc</th>\n",
       "      <th>last_fico_range_high</th>\n",
       "      <th>home_ownership</th>\n",
       "      <th>verification_status</th>\n",
       "      <th>purpose</th>\n",
       "      <th>term</th>\n",
       "    </tr>\n",
       "  </thead>\n",
       "  <tbody>\n",
       "    <tr>\n",
       "      <th>0</th>\n",
       "      <td>5000.0</td>\n",
       "      <td>10.65</td>\n",
       "      <td>162.87</td>\n",
       "      <td>10</td>\n",
       "      <td>24000.0</td>\n",
       "      <td>1</td>\n",
       "      <td>860</td>\n",
       "      <td>27.65</td>\n",
       "      <td>0.0</td>\n",
       "      <td>739.0</td>\n",
       "      <td>1.0</td>\n",
       "      <td>3.0</td>\n",
       "      <td>0.0</td>\n",
       "      <td>13648.0</td>\n",
       "      <td>83.7</td>\n",
       "      <td>9.0</td>\n",
       "      <td>744.0</td>\n",
       "      <td>RENT</td>\n",
       "      <td>Verified</td>\n",
       "      <td>credit_card</td>\n",
       "      <td>36 months</td>\n",
       "    </tr>\n",
       "    <tr>\n",
       "      <th>1</th>\n",
       "      <td>2500.0</td>\n",
       "      <td>15.27</td>\n",
       "      <td>59.83</td>\n",
       "      <td>0</td>\n",
       "      <td>30000.0</td>\n",
       "      <td>0</td>\n",
       "      <td>309</td>\n",
       "      <td>1.00</td>\n",
       "      <td>0.0</td>\n",
       "      <td>744.0</td>\n",
       "      <td>5.0</td>\n",
       "      <td>3.0</td>\n",
       "      <td>0.0</td>\n",
       "      <td>1687.0</td>\n",
       "      <td>9.4</td>\n",
       "      <td>4.0</td>\n",
       "      <td>499.0</td>\n",
       "      <td>RENT</td>\n",
       "      <td>Source Verified</td>\n",
       "      <td>car</td>\n",
       "      <td>60 months</td>\n",
       "    </tr>\n",
       "    <tr>\n",
       "      <th>2</th>\n",
       "      <td>2400.0</td>\n",
       "      <td>15.96</td>\n",
       "      <td>84.33</td>\n",
       "      <td>10</td>\n",
       "      <td>12252.0</td>\n",
       "      <td>1</td>\n",
       "      <td>606</td>\n",
       "      <td>8.72</td>\n",
       "      <td>0.0</td>\n",
       "      <td>739.0</td>\n",
       "      <td>2.0</td>\n",
       "      <td>2.0</td>\n",
       "      <td>0.0</td>\n",
       "      <td>2956.0</td>\n",
       "      <td>98.5</td>\n",
       "      <td>10.0</td>\n",
       "      <td>719.0</td>\n",
       "      <td>RENT</td>\n",
       "      <td>Not Verified</td>\n",
       "      <td>small_business</td>\n",
       "      <td>36 months</td>\n",
       "    </tr>\n",
       "    <tr>\n",
       "      <th>3</th>\n",
       "      <td>10000.0</td>\n",
       "      <td>13.49</td>\n",
       "      <td>339.31</td>\n",
       "      <td>10</td>\n",
       "      <td>49200.0</td>\n",
       "      <td>1</td>\n",
       "      <td>917</td>\n",
       "      <td>20.00</td>\n",
       "      <td>0.0</td>\n",
       "      <td>694.0</td>\n",
       "      <td>1.0</td>\n",
       "      <td>10.0</td>\n",
       "      <td>0.0</td>\n",
       "      <td>5598.0</td>\n",
       "      <td>21.0</td>\n",
       "      <td>37.0</td>\n",
       "      <td>604.0</td>\n",
       "      <td>RENT</td>\n",
       "      <td>Source Verified</td>\n",
       "      <td>other</td>\n",
       "      <td>36 months</td>\n",
       "    </tr>\n",
       "  </tbody>\n",
       "</table>\n",
       "</div>"
      ],
      "text/plain": [
       "   loan_amnt  int_rate  ...         purpose       term\n",
       "0     5000.0     10.65  ...     credit_card  36 months\n",
       "1     2500.0     15.27  ...             car  60 months\n",
       "2     2400.0     15.96  ...  small_business  36 months\n",
       "3    10000.0     13.49  ...           other  36 months\n",
       "\n",
       "[4 rows x 21 columns]"
      ]
     },
     "execution_count": 22,
     "metadata": {},
     "output_type": "execute_result"
    }
   ],
   "source": [
    "# access data file\n",
    "# df = pd.read_csv(io.StringIO(uploaded['iris.csv'].decode('utf-8')))\n",
    "df = pd.read_csv(\"/content/gdrive/MyDrive/Solution Implementation Course/loans_2007.csv\")\n",
    "df.drop(df.columns[[0]], axis=1, inplace=True)# there is an unnamed column in the first col.\n",
    "df.head(4)"
   ]
  },
  {
   "cell_type": "code",
   "execution_count": 23,
   "metadata": {
    "colab": {
     "base_uri": "https://localhost:8080/",
     "height": 320
    },
    "id": "8WhcCL1SdrlK",
    "outputId": "9b8b4583-cdea-4f48-988c-99ed77e77e25"
   },
   "outputs": [
    {
     "data": {
      "text/html": [
       "<div>\n",
       "<style scoped>\n",
       "    .dataframe tbody tr th:only-of-type {\n",
       "        vertical-align: middle;\n",
       "    }\n",
       "\n",
       "    .dataframe tbody tr th {\n",
       "        vertical-align: top;\n",
       "    }\n",
       "\n",
       "    .dataframe thead th {\n",
       "        text-align: right;\n",
       "    }\n",
       "</style>\n",
       "<table border=\"1\" class=\"dataframe\">\n",
       "  <thead>\n",
       "    <tr style=\"text-align: right;\">\n",
       "      <th></th>\n",
       "      <th>loan_amnt</th>\n",
       "      <th>int_rate</th>\n",
       "      <th>installment</th>\n",
       "      <th>emp_length</th>\n",
       "      <th>annual_inc</th>\n",
       "      <th>loan_status</th>\n",
       "      <th>zip_code</th>\n",
       "      <th>dti</th>\n",
       "      <th>delinq_2yrs</th>\n",
       "      <th>fico_range_high</th>\n",
       "      <th>inq_last_6mths</th>\n",
       "      <th>open_acc</th>\n",
       "      <th>pub_rec</th>\n",
       "      <th>revol_bal</th>\n",
       "      <th>revol_util</th>\n",
       "      <th>total_acc</th>\n",
       "      <th>last_fico_range_high</th>\n",
       "    </tr>\n",
       "  </thead>\n",
       "  <tbody>\n",
       "    <tr>\n",
       "      <th>count</th>\n",
       "      <td>39252.000000</td>\n",
       "      <td>39252.000000</td>\n",
       "      <td>39252.000000</td>\n",
       "      <td>39252.000000</td>\n",
       "      <td>3.925200e+04</td>\n",
       "      <td>39252.000000</td>\n",
       "      <td>39252.000000</td>\n",
       "      <td>39252.000000</td>\n",
       "      <td>39252.000000</td>\n",
       "      <td>39252.000000</td>\n",
       "      <td>39252.000000</td>\n",
       "      <td>39252.000000</td>\n",
       "      <td>39252.000000</td>\n",
       "      <td>39252.00000</td>\n",
       "      <td>39202.000000</td>\n",
       "      <td>39252.000000</td>\n",
       "      <td>39252.000000</td>\n",
       "    </tr>\n",
       "    <tr>\n",
       "      <th>mean</th>\n",
       "      <td>11137.180271</td>\n",
       "      <td>11.982838</td>\n",
       "      <td>323.311302</td>\n",
       "      <td>4.826047</td>\n",
       "      <td>6.888910e+04</td>\n",
       "      <td>0.855651</td>\n",
       "      <td>502.382834</td>\n",
       "      <td>13.295056</td>\n",
       "      <td>0.146617</td>\n",
       "      <td>718.996179</td>\n",
       "      <td>0.870325</td>\n",
       "      <td>9.287017</td>\n",
       "      <td>0.055411</td>\n",
       "      <td>13329.80908</td>\n",
       "      <td>48.741092</td>\n",
       "      <td>22.074671</td>\n",
       "      <td>691.787883</td>\n",
       "    </tr>\n",
       "    <tr>\n",
       "      <th>std</th>\n",
       "      <td>7400.231838</td>\n",
       "      <td>3.708876</td>\n",
       "      <td>208.472820</td>\n",
       "      <td>3.603563</td>\n",
       "      <td>6.399421e+04</td>\n",
       "      <td>0.351448</td>\n",
       "      <td>329.753183</td>\n",
       "      <td>6.676636</td>\n",
       "      <td>0.491688</td>\n",
       "      <td>35.868039</td>\n",
       "      <td>1.070851</td>\n",
       "      <td>4.402469</td>\n",
       "      <td>0.238061</td>\n",
       "      <td>15875.00293</td>\n",
       "      <td>28.350143</td>\n",
       "      <td>11.412718</td>\n",
       "      <td>79.575687</td>\n",
       "    </tr>\n",
       "    <tr>\n",
       "      <th>min</th>\n",
       "      <td>500.000000</td>\n",
       "      <td>5.420000</td>\n",
       "      <td>15.690000</td>\n",
       "      <td>0.000000</td>\n",
       "      <td>4.000000e+03</td>\n",
       "      <td>0.000000</td>\n",
       "      <td>7.000000</td>\n",
       "      <td>0.000000</td>\n",
       "      <td>0.000000</td>\n",
       "      <td>629.000000</td>\n",
       "      <td>0.000000</td>\n",
       "      <td>2.000000</td>\n",
       "      <td>0.000000</td>\n",
       "      <td>0.00000</td>\n",
       "      <td>0.000000</td>\n",
       "      <td>2.000000</td>\n",
       "      <td>0.000000</td>\n",
       "    </tr>\n",
       "    <tr>\n",
       "      <th>25%</th>\n",
       "      <td>5400.000000</td>\n",
       "      <td>8.940000</td>\n",
       "      <td>166.310000</td>\n",
       "      <td>2.000000</td>\n",
       "      <td>4.003500e+04</td>\n",
       "      <td>1.000000</td>\n",
       "      <td>200.000000</td>\n",
       "      <td>8.160000</td>\n",
       "      <td>0.000000</td>\n",
       "      <td>689.000000</td>\n",
       "      <td>0.000000</td>\n",
       "      <td>6.000000</td>\n",
       "      <td>0.000000</td>\n",
       "      <td>3671.50000</td>\n",
       "      <td>25.300000</td>\n",
       "      <td>13.000000</td>\n",
       "      <td>649.000000</td>\n",
       "    </tr>\n",
       "    <tr>\n",
       "      <th>50%</th>\n",
       "      <td>10000.000000</td>\n",
       "      <td>11.830000</td>\n",
       "      <td>279.090000</td>\n",
       "      <td>4.000000</td>\n",
       "      <td>5.900000e+04</td>\n",
       "      <td>1.000000</td>\n",
       "      <td>448.000000</td>\n",
       "      <td>13.390000</td>\n",
       "      <td>0.000000</td>\n",
       "      <td>714.000000</td>\n",
       "      <td>1.000000</td>\n",
       "      <td>9.000000</td>\n",
       "      <td>0.000000</td>\n",
       "      <td>8805.00000</td>\n",
       "      <td>49.100000</td>\n",
       "      <td>20.000000</td>\n",
       "      <td>699.000000</td>\n",
       "    </tr>\n",
       "    <tr>\n",
       "      <th>75%</th>\n",
       "      <td>15000.000000</td>\n",
       "      <td>14.460000</td>\n",
       "      <td>427.370000</td>\n",
       "      <td>9.000000</td>\n",
       "      <td>8.200000e+04</td>\n",
       "      <td>1.000000</td>\n",
       "      <td>852.000000</td>\n",
       "      <td>18.580000</td>\n",
       "      <td>0.000000</td>\n",
       "      <td>744.000000</td>\n",
       "      <td>1.000000</td>\n",
       "      <td>12.000000</td>\n",
       "      <td>0.000000</td>\n",
       "      <td>16985.25000</td>\n",
       "      <td>72.300000</td>\n",
       "      <td>29.000000</td>\n",
       "      <td>749.000000</td>\n",
       "    </tr>\n",
       "    <tr>\n",
       "      <th>max</th>\n",
       "      <td>35000.000000</td>\n",
       "      <td>24.590000</td>\n",
       "      <td>1305.190000</td>\n",
       "      <td>10.000000</td>\n",
       "      <td>6.000000e+06</td>\n",
       "      <td>1.000000</td>\n",
       "      <td>999.000000</td>\n",
       "      <td>29.990000</td>\n",
       "      <td>11.000000</td>\n",
       "      <td>829.000000</td>\n",
       "      <td>8.000000</td>\n",
       "      <td>44.000000</td>\n",
       "      <td>4.000000</td>\n",
       "      <td>149588.00000</td>\n",
       "      <td>99.900000</td>\n",
       "      <td>90.000000</td>\n",
       "      <td>850.000000</td>\n",
       "    </tr>\n",
       "  </tbody>\n",
       "</table>\n",
       "</div>"
      ],
      "text/plain": [
       "          loan_amnt      int_rate  ...     total_acc  last_fico_range_high\n",
       "count  39252.000000  39252.000000  ...  39252.000000          39252.000000\n",
       "mean   11137.180271     11.982838  ...     22.074671            691.787883\n",
       "std     7400.231838      3.708876  ...     11.412718             79.575687\n",
       "min      500.000000      5.420000  ...      2.000000              0.000000\n",
       "25%     5400.000000      8.940000  ...     13.000000            649.000000\n",
       "50%    10000.000000     11.830000  ...     20.000000            699.000000\n",
       "75%    15000.000000     14.460000  ...     29.000000            749.000000\n",
       "max    35000.000000     24.590000  ...     90.000000            850.000000\n",
       "\n",
       "[8 rows x 17 columns]"
      ]
     },
     "execution_count": 23,
     "metadata": {},
     "output_type": "execute_result"
    }
   ],
   "source": [
    "df.describe()"
   ]
  },
  {
   "cell_type": "code",
   "execution_count": 24,
   "metadata": {
    "colab": {
     "base_uri": "https://localhost:8080/"
    },
    "id": "oFEX8qr3fF9O",
    "outputId": "85e3203f-1ca6-4b6d-fe91-89e985b10b5a"
   },
   "outputs": [
    {
     "data": {
      "text/plain": [
       "Not Verified       16846\n",
       "Verified           12533\n",
       "Source Verified     9873\n",
       "Name: verification_status, dtype: int64"
      ]
     },
     "execution_count": 24,
     "metadata": {},
     "output_type": "execute_result"
    }
   ],
   "source": [
    "df.verification_status.value_counts()"
   ]
  },
  {
   "cell_type": "code",
   "execution_count": 25,
   "metadata": {
    "colab": {
     "base_uri": "https://localhost:8080/"
    },
    "id": "-sIfQvCjbZqD",
    "outputId": "e37ba936-4771-492f-b52b-af681b7a1767"
   },
   "outputs": [
    {
     "name": "stdout",
     "output_type": "stream",
     "text": [
      "(39252, 21)\n"
     ]
    }
   ],
   "source": [
    "# what isthe structure of my dataset\n",
    "print(df.shape)\n",
    "# df.describe()"
   ]
  },
  {
   "cell_type": "code",
   "execution_count": 26,
   "metadata": {
    "colab": {
     "base_uri": "https://localhost:8080/",
     "height": 112
    },
    "id": "1vjcUzaERyzl",
    "outputId": "5e3d8a57-d6f7-4f35-fdc6-15cdde73cf49"
   },
   "outputs": [
    {
     "data": {
      "text/html": [
       "<div>\n",
       "<style scoped>\n",
       "    .dataframe tbody tr th:only-of-type {\n",
       "        vertical-align: middle;\n",
       "    }\n",
       "\n",
       "    .dataframe tbody tr th {\n",
       "        vertical-align: top;\n",
       "    }\n",
       "\n",
       "    .dataframe thead th {\n",
       "        text-align: right;\n",
       "    }\n",
       "</style>\n",
       "<table border=\"1\" class=\"dataframe\">\n",
       "  <thead>\n",
       "    <tr style=\"text-align: right;\">\n",
       "      <th></th>\n",
       "      <th>n</th>\n",
       "      <th>percent</th>\n",
       "    </tr>\n",
       "  </thead>\n",
       "  <tbody>\n",
       "    <tr>\n",
       "      <th>1</th>\n",
       "      <td>33586</td>\n",
       "      <td>85.57</td>\n",
       "    </tr>\n",
       "    <tr>\n",
       "      <th>0</th>\n",
       "      <td>5666</td>\n",
       "      <td>14.43</td>\n",
       "    </tr>\n",
       "  </tbody>\n",
       "</table>\n",
       "</div>"
      ],
      "text/plain": [
       "       n  percent\n",
       "1  33586    85.57\n",
       "0   5666    14.43"
      ]
     },
     "execution_count": 26,
     "metadata": {},
     "output_type": "execute_result"
    }
   ],
   "source": [
    "aggegate = df.loan_status.value_counts().to_frame('n')\n",
    "aggegate['percent'] = np.round(100*(aggegate['n']/(aggegate['n'].sum())),2)\n",
    "aggegate"
   ]
  },
  {
   "cell_type": "markdown",
   "metadata": {
    "id": "Nt21huxpP3SE"
   },
   "source": [
    "1. Remove all the columns that get added after loan issue\n",
    "> amount of loan <br/>\n",
    "> installment\n",
    "2. Any other variable?"
   ]
  },
  {
   "cell_type": "code",
   "execution_count": 27,
   "metadata": {
    "id": "msUtTxuLQE9g"
   },
   "outputs": [],
   "source": [
    "df.drop(['loan_amnt', 'installment', 'term'], axis=1, inplace=True)\n",
    "# df.drop(['installment', 'term'], axis=1, inplace=True)"
   ]
  },
  {
   "cell_type": "code",
   "execution_count": 28,
   "metadata": {
    "colab": {
     "base_uri": "https://localhost:8080/"
    },
    "id": "IpRcy9l3PjFT",
    "outputId": "a1a32e65-104e-4e95-fca4-eba47f386ba2"
   },
   "outputs": [
    {
     "data": {
      "text/plain": [
       "Index(['int_rate', 'emp_length', 'annual_inc', 'loan_status', 'zip_code',\n",
       "       'dti', 'delinq_2yrs', 'fico_range_high', 'inq_last_6mths', 'open_acc',\n",
       "       'pub_rec', 'revol_bal', 'revol_util', 'total_acc',\n",
       "       'last_fico_range_high', 'home_ownership', 'verification_status',\n",
       "       'purpose'],\n",
       "      dtype='object')"
      ]
     },
     "execution_count": 28,
     "metadata": {},
     "output_type": "execute_result"
    }
   ],
   "source": [
    "df.columns"
   ]
  },
  {
   "cell_type": "code",
   "execution_count": 29,
   "metadata": {
    "colab": {
     "base_uri": "https://localhost:8080/"
    },
    "id": "bMRNwlzlb0nR",
    "outputId": "b7269c14-b743-4a57-ca5a-c531702f4fa1"
   },
   "outputs": [
    {
     "name": "stdout",
     "output_type": "stream",
     "text": [
      " \n",
      "Count total NaN at each column in a DataFrame : \n",
      "\n",
      " int_rate                0.000000\n",
      "emp_length              0.000000\n",
      "annual_inc              0.000000\n",
      "loan_status             0.000000\n",
      "zip_code                0.000000\n",
      "dti                     0.000000\n",
      "delinq_2yrs             0.000000\n",
      "fico_range_high         0.000000\n",
      "inq_last_6mths          0.000000\n",
      "open_acc                0.000000\n",
      "pub_rec                 0.000000\n",
      "revol_bal               0.000000\n",
      "revol_util              0.001274\n",
      "total_acc               0.000000\n",
      "last_fico_range_high    0.000000\n",
      "home_ownership          0.000000\n",
      "verification_status     0.000000\n",
      "purpose                 0.000000\n",
      "dtype: float64\n"
     ]
    }
   ],
   "source": [
    "# Count total NaN at each column in a DataFrame\n",
    "print(\" \\nCount total NaN at each column in a DataFrame : \\n\\n\",\n",
    "      df.isnull().sum()/df.shape[0])"
   ]
  },
  {
   "cell_type": "code",
   "execution_count": 30,
   "metadata": {
    "id": "18QazvlXd7fR"
   },
   "outputs": [],
   "source": [
    "df = df.dropna(subset=['revol_util'])"
   ]
  },
  {
   "cell_type": "code",
   "execution_count": 31,
   "metadata": {
    "id": "3-pjOO-9d7hR"
   },
   "outputs": [],
   "source": [
    "# Make category of columns\n",
    "\n",
    "# Numerical variables ( can be continous (can take any numerical value) or discreet (can only take whole numbers as values) )\n",
    "# numerical_column = [ 'int_rate', 'emp_length', 'annual_inc', \\\n",
    "#                     'zip_code', 'dti', 'delinq_2yrs', 'fico_range_high', \\\n",
    "#                     'inq_last_6mths', 'open_acc', 'pub_rec', 'revol_bal',\\\n",
    "#                     'revol_util', 'total_acc', 'last_fico_range_high']\n",
    "numerical_column = [ 'int_rate', 'emp_length', 'annual_inc', 'delinq_2yrs', 'fico_range_high','revol_bal', 'open_acc','loan_status']\n",
    "# Categorical - ( can be nominal (no order categories) or ordinal (ordered categories) )\n",
    "# categorical_column = ['home_ownership', 'verification_status', 'purpose']\n",
    "\n",
    "target_column = ['loan_status']"
   ]
  },
  {
   "cell_type": "code",
   "execution_count": 32,
   "metadata": {
    "colab": {
     "base_uri": "https://localhost:8080/"
    },
    "id": "HyEOGxTngsE-",
    "outputId": "2b279eb6-a584-4994-8355-347a7c137c7a"
   },
   "outputs": [
    {
     "data": {
      "text/plain": [
       "['int_rate',\n",
       " 'emp_length',\n",
       " 'annual_inc',\n",
       " 'delinq_2yrs',\n",
       " 'fico_range_high',\n",
       " 'revol_bal',\n",
       " 'open_acc']"
      ]
     },
     "execution_count": 32,
     "metadata": {},
     "output_type": "execute_result"
    }
   ],
   "source": [
    "numerical_column[:-1]"
   ]
  },
  {
   "cell_type": "code",
   "execution_count": 33,
   "metadata": {
    "colab": {
     "base_uri": "https://localhost:8080/"
    },
    "id": "I6_Rnn8ygKXY",
    "outputId": "ec5a355d-3806-4a84-84e5-5139e2167a7b"
   },
   "outputs": [
    {
     "name": "stdout",
     "output_type": "stream",
     "text": [
      "Shape of X: (39202, 7)\n",
      "Shape of y: (39202, 1)\n"
     ]
    }
   ],
   "source": [
    "# Split into feature set \"X\" and target variable \"y\"\n",
    "y = df[target_column]\n",
    "df = df[numerical_column]\n",
    "X = df.drop(columns=target_column)\n",
    "print(f\"Shape of X: {X.shape}\\nShape of y: {y.shape}\")"
   ]
  },
  {
   "cell_type": "code",
   "execution_count": 34,
   "metadata": {
    "colab": {
     "base_uri": "https://localhost:8080/"
    },
    "id": "wkqRDMKXFQMa",
    "outputId": "8b95a1db-81e7-4dd6-f0c3-c610d8d854fa"
   },
   "outputs": [
    {
     "name": "stdout",
     "output_type": "stream",
     "text": [
      "Shape of Xtrain: (27441, 7)\n",
      "Shape of Xtest: (11761, 7)\n",
      "Shape of ytrain: (27441, 1)\n",
      "Shape of ytest: (11761, 1)\n"
     ]
    }
   ],
   "source": [
    "# Split data into train and test (Validation in our case)\n",
    "Xtrain, Xtest, ytrain, ytest = train_test_split(X, y, random_state=1, test_size=0.30)\n",
    "\n",
    "print(f\"Shape of Xtrain: {Xtrain.shape}\\n\\\n",
    "Shape of Xtest: {Xtest.shape}\\n\\\n",
    "Shape of ytrain: {ytrain.shape}\\n\\\n",
    "Shape of ytest: {ytest.shape}\")"
   ]
  },
  {
   "cell_type": "code",
   "execution_count": 35,
   "metadata": {
    "colab": {
     "base_uri": "https://localhost:8080/"
    },
    "id": "Kdb_-femmKRG",
    "outputId": "f159c18c-3035-461f-b1ec-9d3aa4cd1b08"
   },
   "outputs": [
    {
     "name": "stdout",
     "output_type": "stream",
     "text": [
      "Shape of Xtrain: (27441, 7)\n",
      "Shape of Xtest: (11761, 7)\n",
      "Shape of ytrain: (27441, 1)\n",
      "Shape of ytest: (11761, 1)\n"
     ]
    }
   ],
   "source": [
    "# # Data transformation\n",
    "\n",
    "# # Scaling choosen as it bring data into range of 0 to 1 \n",
    "# ct = ColumnTransformer(transformers=[('standardscaler', StandardScaler(), numerical_column[:-1])])\n",
    "# # ct = ColumnTransformer(transformers=[('standardscaler', StandardScaler(), numerical_column),\n",
    "# #                                 ('onehotencoder', OneHotEncoder(drop=\"first\"), categorical_column)])\n",
    "# # Apply on Train features\n",
    "# ct.fit(Xtrain) # Learn the stats for this data set\n",
    "# Xtrain = ct.transform(Xtrain) # Apply Transformations\n",
    "\n",
    "# # Second way in one line\n",
    "# # ct.fit_transform(Xtrain)\n",
    "\n",
    "# # Apply on Test Features (Make sure you dont use Fit this time)\n",
    "# # You will apply the same stats for transfromation over test set which you have have learned over the training set.\n",
    "\n",
    "# Xtest = ct.transform(Xtest)\n",
    "\n",
    "# # Check\n",
    "# print(f\"Shape of Xtrain: {Xtrain.shape}\\n\\\n",
    "# Shape of Xtest: {Xtest.shape}\\n\\\n",
    "# Shape of ytrain: {ytrain.shape}\\n\\\n",
    "# Shape of ytest: {ytest.shape}\")"
   ]
  },
  {
   "cell_type": "code",
   "execution_count": 36,
   "metadata": {
    "id": "Vb8K4I5yVAq3"
   },
   "outputs": [],
   "source": [
    "# Here our X is in correct 2-d shape as a matrix\n",
    "# Convert y to 1-d array\n",
    "\n",
    "ytrain = ytrain.values.ravel()\n",
    "ytest = ytest.values.ravel()"
   ]
  },
  {
   "cell_type": "code",
   "execution_count": 37,
   "metadata": {
    "colab": {
     "base_uri": "https://localhost:8080/"
    },
    "id": "b-hf_4AlgBZ8",
    "outputId": "72c003d0-0e15-45b1-aa3d-7c199fddb771"
   },
   "outputs": [
    {
     "data": {
      "text/plain": [
       "array([1, 1, 1, ..., 0, 0, 1])"
      ]
     },
     "execution_count": 37,
     "metadata": {},
     "output_type": "execute_result"
    }
   ],
   "source": [
    "# Now the train a Logistics Regression Model\n",
    "\n",
    "from sklearn.ensemble import RandomForestClassifier\n",
    "# model=RandomForestClassifier(class_weight='balanced')\n",
    "model = LogisticRegression(solver='newton-cg', class_weight='balanced')              # 1. instantiate model (Again you can sepcify the model specific Hyperparameters)\n",
    "\n",
    "model.fit(Xtrain, ytrain)                  # 2. fit model to data\n",
    "\n",
    "y_model = model.predict(Xtest)             # 3. predict on new data\n",
    "y_model"
   ]
  },
  {
   "cell_type": "code",
   "execution_count": 38,
   "metadata": {
    "id": "6U-aSGhzprAb"
   },
   "outputs": [],
   "source": [
    "# Create a new DataFrame to store the results\n",
    "classification_results = pd.DataFrame(columns=['classifier_Name', 'Accuracy_Score'])"
   ]
  },
  {
   "cell_type": "code",
   "execution_count": 39,
   "metadata": {
    "colab": {
     "base_uri": "https://localhost:8080/",
     "height": 81
    },
    "id": "DsTJZLxrgBds",
    "outputId": "6b798f3f-9023-4b15-a277-be1275c2d277"
   },
   "outputs": [
    {
     "data": {
      "text/html": [
       "<div>\n",
       "<style scoped>\n",
       "    .dataframe tbody tr th:only-of-type {\n",
       "        vertical-align: middle;\n",
       "    }\n",
       "\n",
       "    .dataframe tbody tr th {\n",
       "        vertical-align: top;\n",
       "    }\n",
       "\n",
       "    .dataframe thead th {\n",
       "        text-align: right;\n",
       "    }\n",
       "</style>\n",
       "<table border=\"1\" class=\"dataframe\">\n",
       "  <thead>\n",
       "    <tr style=\"text-align: right;\">\n",
       "      <th></th>\n",
       "      <th>classifier_Name</th>\n",
       "      <th>Accuracy_Score</th>\n",
       "    </tr>\n",
       "  </thead>\n",
       "  <tbody>\n",
       "    <tr>\n",
       "      <th>0</th>\n",
       "      <td>Random forest</td>\n",
       "      <td>0.63617</td>\n",
       "    </tr>\n",
       "  </tbody>\n",
       "</table>\n",
       "</div>"
      ],
      "text/plain": [
       "  classifier_Name  Accuracy_Score\n",
       "0   Random forest         0.63617"
      ]
     },
     "execution_count": 39,
     "metadata": {},
     "output_type": "execute_result"
    }
   ],
   "source": [
    "# Make sure you pass the values in same order. First ytest (Orginal values) and then y_model (Model which will predict the y values)\n",
    "accuracy_score(ytest, y_model)\n",
    "classification_results = classification_results.append({'classifier_Name': 'Random forest', 'Accuracy_Score': accuracy_score(ytest, y_model)}, ignore_index=True)\n",
    "classification_results"
   ]
  },
  {
   "cell_type": "code",
   "execution_count": 40,
   "metadata": {
    "colab": {
     "base_uri": "https://localhost:8080/",
     "height": 312
    },
    "id": "GJe3klV5p5mZ",
    "outputId": "51487777-e4dc-428e-a529-8b3d9c705db5"
   },
   "outputs": [
    {
     "data": {
      "text/plain": [
       "Text(91.68, 0.5, 'predicted label')"
      ]
     },
     "execution_count": 40,
     "metadata": {},
     "output_type": "execute_result"
    },
    {
     "data": {
      "image/png": "[encoded data removed]",
      "text/plain": [
       "<Figure size 432x288 with 1 Axes>"
      ]
     },
     "metadata": {
      "needs_background": "light"
     },
     "output_type": "display_data"
    }
   ],
   "source": [
    "# Plot Confusion Matrix\n",
    "# Format is -> confusion_matrix(Actual, Predicted)\n",
    "c_matrix = confusion_matrix(ytest, y_model)\n",
    "sns.heatmap(c_matrix.T, square=True, annot=True, fmt='d', cbar=False)\n",
    "plt.title('Naive Bayes Confusion Matrix')\n",
    "plt.xlabel('true label')\n",
    "plt.ylabel('predicted label')"
   ]
  },
  {
   "cell_type": "code",
   "execution_count": 41,
   "metadata": {
    "colab": {
     "base_uri": "https://localhost:8080/"
    },
    "id": "SlZ-aWHLp5pP",
    "outputId": "43954bba-0db7-4aaf-9bdc-04b8eeb3bf7c"
   },
   "outputs": [
    {
     "name": "stdout",
     "output_type": "stream",
     "text": [
      "              precision    recall  f1-score   support\n",
      "\n",
      "           0       0.22      0.59      0.32      1722\n",
      "           1       0.90      0.64      0.75     10039\n",
      "\n",
      "    accuracy                           0.64     11761\n",
      "   macro avg       0.56      0.62      0.54     11761\n",
      "weighted avg       0.80      0.64      0.69     11761\n",
      "\n"
     ]
    }
   ],
   "source": [
    "print(classification_report(ytest, y_model))"
   ]
  },
  {
   "cell_type": "code",
   "execution_count": 42,
   "metadata": {
    "id": "6C28fRIap5sY"
   },
   "outputs": [],
   "source": [
    "# save model in a pickle format .pkl\n",
    "import pickle\n",
    "pickle_out = open(\"/content/gdrive/MyDrive/Solution Implementation Course/model.pkl\",\"wb\")\n",
    "pickle.dump(model, pickle_out)\n",
    "pickle_out.close()"
   ]
  }
 ],
 "metadata": {
  "accelerator": "GPU",
  "colab": {
   "collapsed_sections": [],
   "name": "DSSl_LoanModel",
   "provenance": []
  },
  "kernelspec": {
   "display_name": "Python 3 (ipykernel)",
   "language": "python",
   "name": "python3"
  },
  "language_info": {
   "codemirror_mode": {
    "name": "ipython",
    "version": 3
   },
   "file_extension": ".py",
   "mimetype": "text/x-python",
   "name": "python",
   "nbconvert_exporter": "python",
   "pygments_lexer": "ipython3",
   "version": "3.9.7"
  }
 },
 "nbformat": 4,
 "nbformat_minor": 1
}
